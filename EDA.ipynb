#load csv file with pandas
import pandas as pd
titanic_data = pd.read_csv('Titanic_data.csv')
print(titanic_data)

#missing values
print(titanic_data.isnull().sum())
titanic_data['Age'].fillna(titanic_data['Age'].median(), inplace=True)
titanic_data.drop(columns=['Cabin'], inplace=True)
titanic_data.dropna(subset=['Embarked'], inplace=True)
print(titanic_data.isnull().sum())

# Removing duplicate rows
titanic_data.drop_duplicates(inplace=True)

#Visulization BoxPolt
import matplotlib.pyplot as plt
import seaborn as sns
plt.figure(figsize=(10, 6))
sns.boxplot(x=titanic_data['Fare'])
plt.title('Boxplot of Fare')
plt.show()

# Bar chart for Surviived variable
plt.figure(figsize=(8, 5))
sns.countplot(x='Survived', data=titanic_data)
plt.title('Count of Survived vs Not Survived')
plt.xlabel('Survived (0 = No, 1 = Yes)')
plt.ylabel('Count')
plt.show()

# Histogram for Age
plt.figure(figsize=(10, 6))
sns.histplot(titanic_data['Age'], bins=30, kde=True)
plt.title('Distribution of Age')
plt.xlabel('Age')
plt.ylabel('Frequency')
plt.show()

# correllation matrixx
numeric_cols = titanic_data.select_dtypes(include=['float64', 'int64']).columns
correlation_matrix = titanic_data[numeric_cols].corr()

plt.figure(figsize=(10, 6))
sns.heatmap(correlation_matrix, annot=True, cmap='coolwarm', fmt='.2f')
plt.title('Correlation Heatmap')
plt.show()

